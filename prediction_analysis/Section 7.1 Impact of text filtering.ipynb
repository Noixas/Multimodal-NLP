{
 "cells": [
  {
   "cell_type": "markdown",
   "metadata": {},
   "source": [
    "# 7.1 Impact of text filtering"
   ]
  },
  {
   "cell_type": "markdown",
   "metadata": {},
   "source": [
    "Import helper functions"
   ]
  },
  {
   "cell_type": "code",
   "execution_count": 1,
   "metadata": {
    "ExecuteTime": {
     "end_time": "2021-02-28T14:49:55.310806Z",
     "start_time": "2021-02-28T14:49:54.817803Z"
    }
   },
   "outputs": [],
   "source": [
    "from pa_utils import *"
   ]
  },
  {
   "cell_type": "markdown",
   "metadata": {},
   "source": [
    "Load development set with image ids and labels"
   ]
  },
  {
   "cell_type": "code",
   "execution_count": 2,
   "metadata": {
    "ExecuteTime": {
     "end_time": "2021-02-28T14:49:55.326808Z",
     "start_time": "2021-02-28T14:49:55.311803Z"
    }
   },
   "outputs": [],
   "source": [
    "dev = read_data(\"dev_seen\")"
   ]
  },
  {
   "cell_type": "markdown",
   "metadata": {
    "ExecuteTime": {
     "end_time": "2021-02-28T14:47:03.514607Z",
     "start_time": "2021-02-28T14:47:03.493578Z"
    }
   },
   "source": [
    "Load dataset where each row contains information about particular object"
   ]
  },
  {
   "cell_type": "code",
   "execution_count": 3,
   "metadata": {
    "ExecuteTime": {
     "end_time": "2021-02-28T14:49:55.589839Z",
     "start_time": "2021-02-28T14:49:55.330802Z"
    }
   },
   "outputs": [],
   "source": [
    "dev_objects = read_objects(dev)"
   ]
  },
  {
   "cell_type": "code",
   "execution_count": 4,
   "metadata": {
    "ExecuteTime": {
     "end_time": "2021-02-28T14:49:55.604806Z",
     "start_time": "2021-02-28T14:49:55.591803Z"
    }
   },
   "outputs": [
    {
     "data": {
      "text/html": [
       "<div>\n",
       "<style scoped>\n",
       "    .dataframe tbody tr th:only-of-type {\n",
       "        vertical-align: middle;\n",
       "    }\n",
       "\n",
       "    .dataframe tbody tr th {\n",
       "        vertical-align: top;\n",
       "    }\n",
       "\n",
       "    .dataframe thead th {\n",
       "        text-align: right;\n",
       "    }\n",
       "</style>\n",
       "<table border=\"1\" class=\"dataframe\">\n",
       "  <thead>\n",
       "    <tr style=\"text-align: right;\">\n",
       "      <th></th>\n",
       "      <th>object_id</th>\n",
       "      <th>object_conf</th>\n",
       "      <th>image_id</th>\n",
       "      <th>x1</th>\n",
       "      <th>y1</th>\n",
       "      <th>x2</th>\n",
       "      <th>y2</th>\n",
       "    </tr>\n",
       "  </thead>\n",
       "  <tbody>\n",
       "    <tr>\n",
       "      <th>0</th>\n",
       "      <td>51</td>\n",
       "      <td>0.856069</td>\n",
       "      <td>8291</td>\n",
       "      <td>507.415405</td>\n",
       "      <td>255.599075</td>\n",
       "      <td>781.199463</td>\n",
       "      <td>523.992737</td>\n",
       "    </tr>\n",
       "    <tr>\n",
       "      <th>1</th>\n",
       "      <td>51</td>\n",
       "      <td>0.850566</td>\n",
       "      <td>8291</td>\n",
       "      <td>235.439621</td>\n",
       "      <td>235.486084</td>\n",
       "      <td>475.613678</td>\n",
       "      <td>521.027527</td>\n",
       "    </tr>\n",
       "    <tr>\n",
       "      <th>2</th>\n",
       "      <td>226</td>\n",
       "      <td>0.793131</td>\n",
       "      <td>8291</td>\n",
       "      <td>471.342255</td>\n",
       "      <td>73.475983</td>\n",
       "      <td>781.282593</td>\n",
       "      <td>548.000000</td>\n",
       "    </tr>\n",
       "    <tr>\n",
       "      <th>3</th>\n",
       "      <td>119</td>\n",
       "      <td>0.851232</td>\n",
       "      <td>8291</td>\n",
       "      <td>605.618958</td>\n",
       "      <td>82.541481</td>\n",
       "      <td>747.604431</td>\n",
       "      <td>188.575043</td>\n",
       "    </tr>\n",
       "    <tr>\n",
       "      <th>4</th>\n",
       "      <td>47</td>\n",
       "      <td>0.818660</td>\n",
       "      <td>8291</td>\n",
       "      <td>484.101929</td>\n",
       "      <td>483.987579</td>\n",
       "      <td>719.916260</td>\n",
       "      <td>548.000000</td>\n",
       "    </tr>\n",
       "  </tbody>\n",
       "</table>\n",
       "</div>"
      ],
      "text/plain": [
       "   object_id  object_conf  image_id          x1          y1          x2  \\\n",
       "0         51     0.856069      8291  507.415405  255.599075  781.199463   \n",
       "1         51     0.850566      8291  235.439621  235.486084  475.613678   \n",
       "2        226     0.793131      8291  471.342255   73.475983  781.282593   \n",
       "3        119     0.851232      8291  605.618958   82.541481  747.604431   \n",
       "4         47     0.818660      8291  484.101929  483.987579  719.916260   \n",
       "\n",
       "           y2  \n",
       "0  523.992737  \n",
       "1  521.027527  \n",
       "2  548.000000  \n",
       "3  188.575043  \n",
       "4  548.000000  "
      ]
     },
     "execution_count": 4,
     "metadata": {},
     "output_type": "execute_result"
    }
   ],
   "source": [
    "dev_objects.head()"
   ]
  },
  {
   "cell_type": "markdown",
   "metadata": {},
   "source": [
    "Count bounding boxes around text for each image"
   ]
  },
  {
   "cell_type": "code",
   "execution_count": 5,
   "metadata": {
    "ExecuteTime": {
     "end_time": "2021-02-28T14:49:55.741836Z",
     "start_time": "2021-02-28T14:49:55.718803Z"
    }
   },
   "outputs": [],
   "source": [
    "is_object_text = dev_objects[\"object_id\"]==1179\n",
    "dev_num_text_img = dev_objects[is_object_text].groupby(by=\"image_id\")[\"object_id\"].count().reset_index()\n",
    "dev_num_text_img = dev_num_text_img.rename(columns={\"image_id\": \"id\", \"object_id\":\"num_text_bboxes\"})"
   ]
  },
  {
   "cell_type": "markdown",
   "metadata": {},
   "source": [
    "Load predictions of the baseline and the text filtering modification and merge them"
   ]
  },
  {
   "cell_type": "code",
   "execution_count": 6,
   "metadata": {
    "ExecuteTime": {
     "end_time": "2021-02-28T14:49:56.085834Z",
     "start_time": "2021-02-28T14:49:56.069803Z"
    }
   },
   "outputs": [],
   "source": [
    "base_dev_preds = pd.read_csv(f\"../model_checkpoints/lucky-frost-115/meme_dev_seen_preds.csv\")\n",
    "text_filter_dev_preds = pd.read_csv(f\"../model_checkpoints/skilled-fog-122/meme_dev_seen_preds.csv\")"
   ]
  },
  {
   "cell_type": "code",
   "execution_count": 7,
   "metadata": {
    "ExecuteTime": {
     "end_time": "2021-02-28T14:49:56.534801Z",
     "start_time": "2021-02-28T14:49:56.515804Z"
    }
   },
   "outputs": [],
   "source": [
    "dev_preds = pd.merge(base_dev_preds, text_filter_dev_preds[[\"id\", \"proba\"]], on=\"id\", suffixes=[\"_base\", \"_tf\"])\n",
    "dev_preds = dev_preds[[\"id\", \"gt\", \"proba_base\", \"proba_tf\"]]"
   ]
  },
  {
   "cell_type": "markdown",
   "metadata": {},
   "source": [
    "To each image, assign text bounding box count. Null values indicate images with no text bounding boxes, so replace with 0."
   ]
  },
  {
   "cell_type": "code",
   "execution_count": 8,
   "metadata": {
    "ExecuteTime": {
     "end_time": "2021-02-28T14:49:57.437402Z",
     "start_time": "2021-02-28T14:49:57.429402Z"
    }
   },
   "outputs": [],
   "source": [
    "dev_preds = pd.merge(dev_preds, dev_num_text_img, on=\"id\", how = \"left\").fillna(0)"
   ]
  },
  {
   "cell_type": "markdown",
   "metadata": {
    "ExecuteTime": {
     "end_time": "2021-02-28T14:41:31.053118Z",
     "start_time": "2021-02-28T14:41:31.034120Z"
    }
   },
   "source": [
    "We want to use a metric that is positive when the probability of an example become closer to the ground truth label i.e. closer to 1 for a positive example and closer to 0 for a negative example. Thus we calculate loss for each example based on the base probability and the text filtering probability. Finally, we take their difference to obtain the final score."
   ]
  },
  {
   "cell_type": "code",
   "execution_count": 9,
   "metadata": {
    "ExecuteTime": {
     "end_time": "2021-02-28T14:49:58.124756Z",
     "start_time": "2021-02-28T14:49:58.106724Z"
    }
   },
   "outputs": [],
   "source": [
    "def bce_loss(ground_truth, predict_proba):\n",
    "    return ground_truth * np.log(predict_proba) + (1 - ground_truth) * np.log(1 - predict_proba)"
   ]
  },
  {
   "cell_type": "markdown",
   "metadata": {},
   "source": [
    "Compute loss difference"
   ]
  },
  {
   "cell_type": "code",
   "execution_count": 10,
   "metadata": {
    "ExecuteTime": {
     "end_time": "2021-02-28T14:49:58.970152Z",
     "start_time": "2021-02-28T14:49:58.949162Z"
    }
   },
   "outputs": [],
   "source": [
    "dev_preds[\"base loss\"] = bce_loss(dev_preds[\"gt\"], dev_preds[\"proba_base\"])\n",
    "dev_preds[\"tf loss\"] = bce_loss(dev_preds[\"gt\"], dev_preds[\"proba_tf\"])\n",
    "dev_preds[\"loss diff\"] = dev_preds[\"tf loss\"] - dev_preds[\"base loss\"]"
   ]
  },
  {
   "cell_type": "markdown",
   "metadata": {},
   "source": [
    "Compute pearson correlation and plot"
   ]
  },
  {
   "cell_type": "code",
   "execution_count": 11,
   "metadata": {
    "ExecuteTime": {
     "end_time": "2021-02-28T14:50:00.149917Z",
     "start_time": "2021-02-28T14:49:59.844882Z"
    }
   },
   "outputs": [
    {
     "data": {
      "text/plain": [
       "(-0.09663099313091714, 0.030742919712012446)"
      ]
     },
     "execution_count": 11,
     "metadata": {},
     "output_type": "execute_result"
    }
   ],
   "source": [
    "from scipy.stats import pearsonr\n",
    "pearsonr(dev_preds[\"loss diff\"], dev_preds[\"num_text_bboxes\"])"
   ]
  },
  {
   "cell_type": "code",
   "execution_count": 12,
   "metadata": {
    "ExecuteTime": {
     "end_time": "2021-02-28T14:50:00.627881Z",
     "start_time": "2021-02-28T14:50:00.334881Z"
    }
   },
   "outputs": [
    {
     "data": {
      "image/png": "[encoded data removed]",
      "text/plain": [
       "<Figure size 432x288 with 1 Axes>"
      ]
     },
     "metadata": {
      "needs_background": "light"
     },
     "output_type": "display_data"
    }
   ],
   "source": [
    "import seaborn as sns\n",
    "sns.scatterplot(x=\"loss diff\", y=\"num_text_bboxes\", data=dev_preds)\n",
    "plt.ylabel(\"number of text bounding boxes\")\n",
    "plt.xlabel(\"loss improvement\")\n",
    "# plt.title(\"Correlation between number of text bounding boxes \\n and loss improvement from baseline to text filtering results\")\n",
    "plt.show()"
   ]
  }
 ],
 "metadata": {
  "kernelspec": {
   "display_name": "Python 3",
   "language": "python",
   "name": "python3"
  },
  "language_info": {
   "codemirror_mode": {
    "name": "ipython",
    "version": 3
   },
   "file_extension": ".py",
   "mimetype": "text/x-python",
   "name": "python",
   "nbconvert_exporter": "python",
   "pygments_lexer": "ipython3",
   "version": "3.7.5"
  },
  "toc": {
   "base_numbering": 1,
   "nav_menu": {},
   "number_sections": false,
   "sideBar": true,
   "skip_h1_title": false,
   "title_cell": "Table of Contents",
   "title_sidebar": "Contents",
   "toc_cell": false,
   "toc_position": {},
   "toc_section_display": true,
   "toc_window_display": false
  }
 },
 "nbformat": 4,
 "nbformat_minor": 4
}
