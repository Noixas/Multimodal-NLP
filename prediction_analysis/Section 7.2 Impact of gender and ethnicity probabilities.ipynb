{
 "cells": [
  {
   "cell_type": "code",
   "execution_count": 1,
   "metadata": {
    "ExecuteTime": {
     "end_time": "2021-02-28T18:35:02.655957Z",
     "start_time": "2021-02-28T18:35:01.456010Z"
    }
   },
   "outputs": [],
   "source": [
    "import pandas as pd\n",
    "import numpy as np"
   ]
  },
  {
   "cell_type": "markdown",
   "metadata": {},
   "source": [
    "Load predictions of the model extended with gender and race probabilities"
   ]
  },
  {
   "cell_type": "code",
   "execution_count": 2,
   "metadata": {
    "ExecuteTime": {
     "end_time": "2021-02-28T18:35:02.671921Z",
     "start_time": "2021-02-28T18:35:02.658921Z"
    }
   },
   "outputs": [],
   "source": [
    "gender_race_preds = pd.read_csv(f\"../model_checkpoints/amber-energy-136/meme_dev_seen_preds.csv\")"
   ]
  },
  {
   "cell_type": "markdown",
   "metadata": {},
   "source": [
    "Load dict with gender and race probabilities for each image"
   ]
  },
  {
   "cell_type": "code",
   "execution_count": 3,
   "metadata": {
    "ExecuteTime": {
     "end_time": "2021-02-28T18:35:02.687959Z",
     "start_time": "2021-02-28T18:35:02.676929Z"
    }
   },
   "outputs": [],
   "source": [
    "gender_race_probs_dict = pd.read_pickle(\"../dataset/gender_race_probs/dev_seen_gender_race_probs_dict.pickle\")"
   ]
  },
  {
   "cell_type": "markdown",
   "metadata": {},
   "source": [
    "Gender and race labels"
   ]
  },
  {
   "cell_type": "code",
   "execution_count": 4,
   "metadata": {
    "ExecuteTime": {
     "end_time": "2021-02-28T18:35:02.703931Z",
     "start_time": "2021-02-28T18:35:02.689958Z"
    }
   },
   "outputs": [],
   "source": [
    "gender_labels = [\"female\", \"male\"]\n",
    "race_labels = [\"asian\", \"indian\", \"black\", \"white\", \"middle eastern\", \"latino hispanic\"]"
   ]
  },
  {
   "cell_type": "markdown",
   "metadata": {},
   "source": [
    "Add dominant gender and race for each image"
   ]
  },
  {
   "cell_type": "code",
   "execution_count": 5,
   "metadata": {
    "ExecuteTime": {
     "end_time": "2021-02-28T18:35:02.735020Z",
     "start_time": "2021-02-28T18:35:02.706922Z"
    }
   },
   "outputs": [],
   "source": [
    "for i in gender_race_preds.index:\n",
    "    probs = gender_race_probs_dict[gender_race_preds.at[i, \"id\"]]\n",
    "    gender_probs = probs[:2]\n",
    "    race_probs = probs[2:]\n",
    "    if gender_probs[0]==0 and gender_probs[1]==0:\n",
    "        gender_race_preds.at[i, \"gender\"] = \"no face detected\"\n",
    "        gender_race_preds.at[i, \"ethnicity\"] = \"no face detected\"\n",
    "    else:\n",
    "        gender_race_preds.at[i, \"gender\"] = gender_labels[np.argmax(gender_probs)]\n",
    "        gender_race_preds.at[i, \"ethnicity\"] = race_labels[np.argmax(race_probs)]"
   ]
  },
  {
   "cell_type": "code",
   "execution_count": 6,
   "metadata": {
    "ExecuteTime": {
     "end_time": "2021-02-28T18:35:02.750479Z",
     "start_time": "2021-02-28T18:35:02.737927Z"
    }
   },
   "outputs": [],
   "source": [
    "gender_race_preds = gender_race_preds[~(gender_race_preds[\"gender\"] == \"no face detected\")]"
   ]
  },
  {
   "cell_type": "code",
   "execution_count": 7,
   "metadata": {
    "ExecuteTime": {
     "end_time": "2021-02-28T18:35:02.782031Z",
     "start_time": "2021-02-28T18:35:02.753477Z"
    },
    "scrolled": false
   },
   "outputs": [
    {
     "data": {
      "text/html": [
       "<div>\n",
       "<style scoped>\n",
       "    .dataframe tbody tr th:only-of-type {\n",
       "        vertical-align: middle;\n",
       "    }\n",
       "\n",
       "    .dataframe tbody tr th {\n",
       "        vertical-align: top;\n",
       "    }\n",
       "\n",
       "    .dataframe thead th {\n",
       "        text-align: right;\n",
       "    }\n",
       "</style>\n",
       "<table border=\"1\" class=\"dataframe\">\n",
       "  <thead>\n",
       "    <tr style=\"text-align: right;\">\n",
       "      <th></th>\n",
       "      <th>id</th>\n",
       "      <th>proba</th>\n",
       "      <th>label</th>\n",
       "      <th>gt</th>\n",
       "      <th>gender</th>\n",
       "      <th>ethnicity</th>\n",
       "    </tr>\n",
       "  </thead>\n",
       "  <tbody>\n",
       "    <tr>\n",
       "      <th>0</th>\n",
       "      <td>8291</td>\n",
       "      <td>0.180453</td>\n",
       "      <td>0</td>\n",
       "      <td>1</td>\n",
       "      <td>male</td>\n",
       "      <td>black</td>\n",
       "    </tr>\n",
       "    <tr>\n",
       "      <th>1</th>\n",
       "      <td>46971</td>\n",
       "      <td>0.029385</td>\n",
       "      <td>0</td>\n",
       "      <td>1</td>\n",
       "      <td>male</td>\n",
       "      <td>white</td>\n",
       "    </tr>\n",
       "    <tr>\n",
       "      <th>2</th>\n",
       "      <td>3745</td>\n",
       "      <td>0.050819</td>\n",
       "      <td>0</td>\n",
       "      <td>1</td>\n",
       "      <td>female</td>\n",
       "      <td>white</td>\n",
       "    </tr>\n",
       "    <tr>\n",
       "      <th>5</th>\n",
       "      <td>5279</td>\n",
       "      <td>0.811795</td>\n",
       "      <td>1</td>\n",
       "      <td>1</td>\n",
       "      <td>male</td>\n",
       "      <td>white</td>\n",
       "    </tr>\n",
       "    <tr>\n",
       "      <th>6</th>\n",
       "      <td>1796</td>\n",
       "      <td>0.679784</td>\n",
       "      <td>1</td>\n",
       "      <td>1</td>\n",
       "      <td>female</td>\n",
       "      <td>asian</td>\n",
       "    </tr>\n",
       "    <tr>\n",
       "      <th>...</th>\n",
       "      <td>...</td>\n",
       "      <td>...</td>\n",
       "      <td>...</td>\n",
       "      <td>...</td>\n",
       "      <td>...</td>\n",
       "      <td>...</td>\n",
       "    </tr>\n",
       "    <tr>\n",
       "      <th>492</th>\n",
       "      <td>48792</td>\n",
       "      <td>0.204848</td>\n",
       "      <td>0</td>\n",
       "      <td>0</td>\n",
       "      <td>male</td>\n",
       "      <td>white</td>\n",
       "    </tr>\n",
       "    <tr>\n",
       "      <th>493</th>\n",
       "      <td>7528</td>\n",
       "      <td>0.894834</td>\n",
       "      <td>1</td>\n",
       "      <td>1</td>\n",
       "      <td>male</td>\n",
       "      <td>white</td>\n",
       "    </tr>\n",
       "    <tr>\n",
       "      <th>494</th>\n",
       "      <td>1268</td>\n",
       "      <td>0.531264</td>\n",
       "      <td>1</td>\n",
       "      <td>0</td>\n",
       "      <td>male</td>\n",
       "      <td>asian</td>\n",
       "    </tr>\n",
       "    <tr>\n",
       "      <th>495</th>\n",
       "      <td>83675</td>\n",
       "      <td>0.040106</td>\n",
       "      <td>0</td>\n",
       "      <td>0</td>\n",
       "      <td>male</td>\n",
       "      <td>black</td>\n",
       "    </tr>\n",
       "    <tr>\n",
       "      <th>498</th>\n",
       "      <td>9863</td>\n",
       "      <td>0.019135</td>\n",
       "      <td>0</td>\n",
       "      <td>0</td>\n",
       "      <td>female</td>\n",
       "      <td>white</td>\n",
       "    </tr>\n",
       "  </tbody>\n",
       "</table>\n",
       "<p>368 rows × 6 columns</p>\n",
       "</div>"
      ],
      "text/plain": [
       "        id     proba  label  gt  gender ethnicity\n",
       "0     8291  0.180453      0   1    male     black\n",
       "1    46971  0.029385      0   1    male     white\n",
       "2     3745  0.050819      0   1  female     white\n",
       "5     5279  0.811795      1   1    male     white\n",
       "6     1796  0.679784      1   1  female     asian\n",
       "..     ...       ...    ...  ..     ...       ...\n",
       "492  48792  0.204848      0   0    male     white\n",
       "493   7528  0.894834      1   1    male     white\n",
       "494   1268  0.531264      1   0    male     asian\n",
       "495  83675  0.040106      0   0    male     black\n",
       "498   9863  0.019135      0   0  female     white\n",
       "\n",
       "[368 rows x 6 columns]"
      ]
     },
     "execution_count": 7,
     "metadata": {},
     "output_type": "execute_result"
    }
   ],
   "source": [
    "gender_race_preds"
   ]
  },
  {
   "cell_type": "code",
   "execution_count": 8,
   "metadata": {
    "ExecuteTime": {
     "end_time": "2021-02-28T18:35:02.814092Z",
     "start_time": "2021-02-28T18:35:02.784037Z"
    }
   },
   "outputs": [],
   "source": [
    "num_gt_hateful = gender_race_preds[gender_race_preds[\"gt\"]==1].shape[0]\n",
    "num_label_hateful = gender_race_preds[gender_race_preds[\"label\"]==1].shape[0]\n",
    "\n",
    "gender_hateful_perc = gender_race_preds.groupby(by=\"gender\")[[\"gt\",\"label\"]].sum()\n",
    "gender_hateful_perc[\"gt\"] = gender_hateful_perc[\"gt\"] * 100/ num_gt_hateful\n",
    "gender_hateful_perc[\"label\"] = gender_hateful_perc[\"label\"] * 100/num_label_hateful\n",
    "\n",
    "ethnicity_hateful_perc = gender_race_preds.groupby(by=\"ethnicity\")[[\"gt\",\"label\"]].sum()\n",
    "ethnicity_hateful_perc[\"gt\"] = ethnicity_hateful_perc[\"gt\"] * 100/ num_gt_hateful\n",
    "ethnicity_hateful_perc[\"label\"] = ethnicity_hateful_perc[\"label\"] * 100 /num_label_hateful\n",
    "ethnicity_hateful_perc = ethnicity_hateful_perc.reindex(race_labels+[\"no face detected\"])"
   ]
  },
  {
   "cell_type": "code",
   "execution_count": 9,
   "metadata": {
    "ExecuteTime": {
     "end_time": "2021-02-28T18:35:02.829059Z",
     "start_time": "2021-02-28T18:35:02.816058Z"
    }
   },
   "outputs": [
    {
     "data": {
      "text/html": [
       "<div>\n",
       "<style scoped>\n",
       "    .dataframe tbody tr th:only-of-type {\n",
       "        vertical-align: middle;\n",
       "    }\n",
       "\n",
       "    .dataframe tbody tr th {\n",
       "        vertical-align: top;\n",
       "    }\n",
       "\n",
       "    .dataframe thead th {\n",
       "        text-align: right;\n",
       "    }\n",
       "</style>\n",
       "<table border=\"1\" class=\"dataframe\">\n",
       "  <thead>\n",
       "    <tr style=\"text-align: right;\">\n",
       "      <th></th>\n",
       "      <th>gt</th>\n",
       "      <th>label</th>\n",
       "    </tr>\n",
       "    <tr>\n",
       "      <th>gender</th>\n",
       "      <th></th>\n",
       "      <th></th>\n",
       "    </tr>\n",
       "  </thead>\n",
       "  <tbody>\n",
       "    <tr>\n",
       "      <th>female</th>\n",
       "      <td>16.062176</td>\n",
       "      <td>17.808219</td>\n",
       "    </tr>\n",
       "    <tr>\n",
       "      <th>male</th>\n",
       "      <td>83.937824</td>\n",
       "      <td>82.191781</td>\n",
       "    </tr>\n",
       "  </tbody>\n",
       "</table>\n",
       "</div>"
      ],
      "text/plain": [
       "               gt      label\n",
       "gender                      \n",
       "female  16.062176  17.808219\n",
       "male    83.937824  82.191781"
      ]
     },
     "execution_count": 9,
     "metadata": {},
     "output_type": "execute_result"
    }
   ],
   "source": [
    "gender_hateful_perc"
   ]
  },
  {
   "cell_type": "code",
   "execution_count": 10,
   "metadata": {
    "ExecuteTime": {
     "end_time": "2021-02-28T18:35:02.844164Z",
     "start_time": "2021-02-28T18:35:02.832057Z"
    }
   },
   "outputs": [
    {
     "data": {
      "text/html": [
       "<div>\n",
       "<style scoped>\n",
       "    .dataframe tbody tr th:only-of-type {\n",
       "        vertical-align: middle;\n",
       "    }\n",
       "\n",
       "    .dataframe tbody tr th {\n",
       "        vertical-align: top;\n",
       "    }\n",
       "\n",
       "    .dataframe thead th {\n",
       "        text-align: right;\n",
       "    }\n",
       "</style>\n",
       "<table border=\"1\" class=\"dataframe\">\n",
       "  <thead>\n",
       "    <tr style=\"text-align: right;\">\n",
       "      <th></th>\n",
       "      <th>gt</th>\n",
       "      <th>label</th>\n",
       "    </tr>\n",
       "    <tr>\n",
       "      <th>ethnicity</th>\n",
       "      <th></th>\n",
       "      <th></th>\n",
       "    </tr>\n",
       "  </thead>\n",
       "  <tbody>\n",
       "    <tr>\n",
       "      <th>asian</th>\n",
       "      <td>7.772021</td>\n",
       "      <td>9.589041</td>\n",
       "    </tr>\n",
       "    <tr>\n",
       "      <th>indian</th>\n",
       "      <td>2.590674</td>\n",
       "      <td>2.054795</td>\n",
       "    </tr>\n",
       "    <tr>\n",
       "      <th>black</th>\n",
       "      <td>17.098446</td>\n",
       "      <td>13.698630</td>\n",
       "    </tr>\n",
       "    <tr>\n",
       "      <th>white</th>\n",
       "      <td>58.031088</td>\n",
       "      <td>62.328767</td>\n",
       "    </tr>\n",
       "    <tr>\n",
       "      <th>middle eastern</th>\n",
       "      <td>10.362694</td>\n",
       "      <td>8.219178</td>\n",
       "    </tr>\n",
       "    <tr>\n",
       "      <th>latino hispanic</th>\n",
       "      <td>4.145078</td>\n",
       "      <td>4.109589</td>\n",
       "    </tr>\n",
       "    <tr>\n",
       "      <th>no face detected</th>\n",
       "      <td>NaN</td>\n",
       "      <td>NaN</td>\n",
       "    </tr>\n",
       "  </tbody>\n",
       "</table>\n",
       "</div>"
      ],
      "text/plain": [
       "                         gt      label\n",
       "ethnicity                             \n",
       "asian              7.772021   9.589041\n",
       "indian             2.590674   2.054795\n",
       "black             17.098446  13.698630\n",
       "white             58.031088  62.328767\n",
       "middle eastern    10.362694   8.219178\n",
       "latino hispanic    4.145078   4.109589\n",
       "no face detected        NaN        NaN"
      ]
     },
     "execution_count": 10,
     "metadata": {},
     "output_type": "execute_result"
    }
   ],
   "source": [
    "ethnicity_hateful_perc"
   ]
  },
  {
   "cell_type": "code",
   "execution_count": 11,
   "metadata": {
    "ExecuteTime": {
     "end_time": "2021-02-28T18:35:02.987354Z",
     "start_time": "2021-02-28T18:35:02.977357Z"
    }
   },
   "outputs": [],
   "source": [
    "hateful_perc = pd.concat([gender_hateful_perc, ethnicity_hateful_perc])"
   ]
  },
  {
   "cell_type": "code",
   "execution_count": 12,
   "metadata": {
    "ExecuteTime": {
     "end_time": "2021-02-28T18:35:03.575893Z",
     "start_time": "2021-02-28T18:35:03.557699Z"
    }
   },
   "outputs": [],
   "source": [
    "hateful_perc = hateful_perc.rename(columns = {\"gt\":\"% actual hateful\", \"label\":\"% predicted hateful\"})"
   ]
  },
  {
   "cell_type": "code",
   "execution_count": 13,
   "metadata": {
    "ExecuteTime": {
     "end_time": "2021-02-28T18:35:03.903025Z",
     "start_time": "2021-02-28T18:35:03.895030Z"
    }
   },
   "outputs": [],
   "source": [
    "pd.options.display.float_format = \"{:,.2f}\".format"
   ]
  },
  {
   "cell_type": "code",
   "execution_count": 14,
   "metadata": {
    "ExecuteTime": {
     "end_time": "2021-02-28T18:35:04.414585Z",
     "start_time": "2021-02-28T18:35:04.396584Z"
    }
   },
   "outputs": [
    {
     "name": "stdout",
     "output_type": "stream",
     "text": [
      "\\begin{tabular}{lrr}\n",
      "\\toprule\n",
      "{} &  \\% actual hateful &  \\% predicted hateful \\\\\n",
      "\\midrule\n",
      "female           &             16.06 &                17.81 \\\\\n",
      "male             &             83.94 &                82.19 \\\\\n",
      "asian            &              7.77 &                 9.59 \\\\\n",
      "indian           &              2.59 &                 2.05 \\\\\n",
      "black            &             17.10 &                13.70 \\\\\n",
      "white            &             58.03 &                62.33 \\\\\n",
      "middle eastern   &             10.36 &                 8.22 \\\\\n",
      "latino hispanic  &              4.15 &                 4.11 \\\\\n",
      "no face detected &               nan &                  nan \\\\\n",
      "\\bottomrule\n",
      "\\end{tabular}\n",
      "\n"
     ]
    }
   ],
   "source": [
    "print(hateful_perc.to_latex())"
   ]
  },
  {
   "cell_type": "code",
   "execution_count": 74,
   "metadata": {
    "ExecuteTime": {
     "end_time": "2021-02-28T18:28:18.682745Z",
     "start_time": "2021-02-28T18:28:18.673744Z"
    }
   },
   "outputs": [],
   "source": [
    "import matplotlib.pyplot as plt\n",
    "plt.style.use('default')"
   ]
  },
  {
   "cell_type": "code",
   "execution_count": 75,
   "metadata": {
    "ExecuteTime": {
     "end_time": "2021-02-28T18:28:19.210232Z",
     "start_time": "2021-02-28T18:28:19.207267Z"
    }
   },
   "outputs": [],
   "source": [
    "import seaborn as sns"
   ]
  },
  {
   "cell_type": "code",
   "execution_count": 76,
   "metadata": {
    "ExecuteTime": {
     "end_time": "2021-02-28T18:28:19.695211Z",
     "start_time": "2021-02-28T18:28:19.518246Z"
    }
   },
   "outputs": [
    {
     "data": {
      "image/png": "[encoded data removed]",
      "text/plain": [
       "<Figure size 640x480 with 1 Axes>"
      ]
     },
     "metadata": {},
     "output_type": "display_data"
    }
   ],
   "source": [
    "hateful_perc.plot(kind=\"bar\", color=sns.color_palette(\"pastel\"))\n",
    "plt.xticks(rotation=45)\n",
    "plt.show()"
   ]
  },
  {
   "cell_type": "code",
   "execution_count": null,
   "metadata": {},
   "outputs": [],
   "source": []
  }
 ],
 "metadata": {
  "kernelspec": {
   "display_name": "Python 3",
   "language": "python",
   "name": "python3"
  },
  "language_info": {
   "codemirror_mode": {
    "name": "ipython",
    "version": 3
   },
   "file_extension": ".py",
   "mimetype": "text/x-python",
   "name": "python",
   "nbconvert_exporter": "python",
   "pygments_lexer": "ipython3",
   "version": "3.7.5"
  },
  "toc": {
   "base_numbering": 1,
   "nav_menu": {},
   "number_sections": false,
   "sideBar": true,
   "skip_h1_title": false,
   "title_cell": "Table of Contents",
   "title_sidebar": "Contents",
   "toc_cell": false,
   "toc_position": {},
   "toc_section_display": true,
   "toc_window_display": false
  }
 },
 "nbformat": 4,
 "nbformat_minor": 4
}
