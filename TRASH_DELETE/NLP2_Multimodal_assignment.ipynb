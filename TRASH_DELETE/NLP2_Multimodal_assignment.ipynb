{
  "nbformat": 4,
  "nbformat_minor": 0,
  "metadata": {
    "colab": {
      "name": "NLP2_Multimodal_assignment.ipynb",
      "provenance": []
    },
    "kernelspec": {
      "name": "python3",
      "display_name": "Python 3"
    },
    "accelerator": "GPU"
  },
  "cells": [
    {
      "cell_type": "code",
      "metadata": {
        "id": "pEFO3fCehDlS"
      },
      "source": [
        "# Install the NVIDIA Apex library\r\n",
        "# This might take a few mins\r\n",
        "\r\n",
        "!git clone https://github.com/NVIDIA/apex\r\n",
        "%cd apex\r\n",
        "!pip install -v --no-cache-dir --global-option=\"--cpp_ext\" --global-option=\"--cuda_ext\" ./\r\n",
        "%cd ..\r\n"
      ],
      "execution_count": null,
      "outputs": []
    },
    {
      "cell_type": "code",
      "metadata": {
        "id": "RYMvCGfHxHwD"
      },
      "source": [
        "# To make sure that you do not have to upload your code and all the heavy data files after wvery session time out,\r\n",
        "# we recommend you upload it to a GDrive and mount it here. Then you can easily run any python code easily.\r\n",
        "# YOUR CODE HERE:  mount your Gdrive containing the code (same structure as the GitHub Repo) and cd to it to run .py files from that folder"
      ],
      "execution_count": null,
      "outputs": []
    },
    {
      "cell_type": "code",
      "metadata": {
        "id": "QJZu_wUH9tY6"
      },
      "source": [
        "# Install the required libraries\r\n",
        "!pip install -r requirements.txt"
      ],
      "execution_count": null,
      "outputs": []
    },
    {
      "cell_type": "code",
      "metadata": {
        "id": "-aSweZwDxptY"
      },
      "source": [
        "# Run the training \r\n",
        "\r\n",
        "!python train_uniter.py"
      ],
      "execution_count": null,
      "outputs": []
    }
  ]
}